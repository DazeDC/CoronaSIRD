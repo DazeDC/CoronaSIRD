{
 "cells": [
  {
   "cell_type": "code",
   "execution_count": null,
   "metadata": {},
   "outputs": [],
   "source": [
    "import pandas as pd\n",
    "import copy\n",
    "from matplotlib import pyplot as plt\n",
    "import numpy as np"
   ]
  },
  {
   "cell_type": "code",
   "execution_count": null,
   "metadata": {},
   "outputs": [],
   "source": [
    "# ***************************************** DEATHS *****************************************"
   ]
  },
  {
   "cell_type": "code",
   "execution_count": null,
   "metadata": {},
   "outputs": [],
   "source": [
    "total_deaths_number = pd.read_csv(\"../olderfirstvaccine/results/corona_n_dead{}__.csv\", sep=\";\", names=['t.u.', 'mean', 'variance', 'std_dev'])\n",
    "total_sus_number = pd.read_csv(\"../olderfirstvaccine/results/corona_n_susceptible{}__.csv\", sep=\";\", names=['t.u.', 'mean', 'variance', 'std_dev'])\n",
    "total_inf_number = pd.read_csv(\"../olderfirstvaccine/results/corona_n_infected{}__.csv\", sep=\";\", names=['t.u.', 'mean', 'variance', 'std_dev'])\n",
    "total_rec_number = pd.read_csv(\"../olderfirstvaccine/results/corona_n_recovered{}__.csv\", sep=\";\", names=['t.u.', 'mean', 'variance', 'std_dev'])\n",
    "total_vac_number = pd.read_csv(\"../olderfirstvaccine/results/corona_#V__.csv\", sep=\";\", names=['t.u.', 'mean', 'variance', 'std_dev'])\n",
    "\n",
    "mean_deaths_number = total_deaths_number[\"mean\"]\n",
    "mean_sus_number = total_sus_number[\"mean\"]\n",
    "mean_inf_number = total_inf_number[\"mean\"]\n",
    "mean_rec_number = total_rec_number[\"mean\"]\n",
    "mean_vac_number = total_vac_number[\"mean\"]\n",
    "\n",
    "mean_deaths = pd.concat([mean_sus_number, mean_inf_number, mean_rec_number, mean_deaths_number, mean_vac_number], axis=1)\n",
    "\n",
    "f = plt.figure()\n",
    "plt.plot(mean_deaths, label=[\"Susceptible\", \"Infected\", \"Recovered\", \"Dead\", \"Vaccinated\"])\n",
    "plt.legend()\n",
    "\n",
    "f.savefig(\"../total_results/olderfirstvaccine_distribution.pdf\")"
   ]
  },
  {
   "cell_type": "code",
   "execution_count": null,
   "metadata": {},
   "outputs": [],
   "source": [
    "total_deaths_number = pd.read_csv(\"../olderfirstvaccine/results/corona_n_dead{}__.csv\", sep=\";\", names=['t.u.', 'mean', 'variance', 'std_dev'])\n",
    "\n",
    "f = plt.figure()\n",
    "plt.plot(total_deaths_number[\"mean\"], label=\"Dead\", color=\"red\")\n",
    "plt.yticks(range(0, 201, 20))\n",
    "plt.legend()\n",
    "\n",
    "print(total_deaths_number[\"mean\"].values[-1])\n",
    "print(total_deaths_number[\"std_dev\"].values[-1])\n",
    "\n",
    "# f.savefig(\"../total_results/olderfirstvaccine_deaths.pdf\")"
   ]
  },
  {
   "cell_type": "code",
   "execution_count": null,
   "metadata": {},
   "outputs": [],
   "source": [
    "n_dead = copy.deepcopy(total_deaths_number)\n",
    "\n",
    "dead_vals = n_dead[\"mean\"].values\n",
    "\n",
    "dead_inc = []\n",
    "\n",
    "for i in range(1, len(dead_vals)):\n",
    "    #print(dead_vals[i])\n",
    "    dead_inc.append(abs(dead_vals[i] - dead_vals[i-1]))\n",
    "    \n",
    "mean_dead_inc = [dead_inc[i-7:i] for i in range(7, len(dead_inc))]\n",
    "mean_dead_inc = list(map(lambda x: np.mean(x), mean_dead_inc))\n",
    "\n",
    "index = 0\n",
    "\n",
    "for i, d in enumerate(dead_inc):\n",
    "    if d < 0.05:\n",
    "        index = i\n",
    "        print(i)\n",
    "        break\n",
    "\n",
    "f = plt.figure()\n",
    "plt.hlines(mean_dead_inc[index], 0, 2190, linestyles=\"dashed\", colors=\"green\", label=\"threshold\")\n",
    "plt.vlines(index, 0, 0.6, linestyles=\"dotted\", colors=\"black\")\n",
    "plt.plot(dead_inc, label=\"Deaths increment per t.u.\")\n",
    "plt.plot(mean_dead_inc, label=\"Mean Deaths increment per t.u.\")\n",
    "plt.legend()\n",
    "\n",
    "# f.savefig(\"../total_results/olderfirstvaccine_deaths_increment.pdf\")"
   ]
  },
  {
   "cell_type": "code",
   "execution_count": null,
   "metadata": {},
   "outputs": [],
   "source": [
    "# *************************************************** POSITIVES *************************************************"
   ]
  },
  {
   "cell_type": "code",
   "execution_count": null,
   "metadata": {},
   "outputs": [],
   "source": [
    "total_positives_number = pd.read_csv(\"../olderfirstvaccine/results/corona_n_infected{}__.csv\", sep=\";\", names=['t.u.', 'mean', 'variance', 'std_dev'])\n",
    "\n",
    "n_positives = copy.deepcopy(total_positives_number)\n",
    "\n",
    "positives_vals = n_positives[\"mean\"].values\n",
    "\n",
    "positives_inc = []\n",
    "\n",
    "for i in range(1, len(positives_vals)):\n",
    "    #print(positives_vals[i])\n",
    "    positives_inc.append(abs(positives_vals[i] - positives_vals[i-1]))\n",
    "    \n",
    "mean_positives_inc = [positives_inc[i-7:i] for i in range(7, len(positives_inc))]\n",
    "mean_positives_inc = list(map(lambda x: np.mean(x), mean_positives_inc))\n",
    "\n",
    "glob_mean_inc = np.average(positives_inc[:1000])\n",
    "\n",
    "print(glob_mean_inc)\n",
    "\n",
    "glob_pos_std_dev_inc = [glob_mean_inc + np.std(positives_inc[:1000])] * len(positives_inc)\n",
    "glob_neg_std_dev_inc = [glob_mean_inc - np.std(positives_inc[:1000])] * len(positives_inc)\n",
    "glob_mean_inc = [glob_mean_inc] * len(positives_inc)\n",
    "\n",
    "\n",
    "f = plt.figure()\n",
    "plt.plot(positives_inc, label=\"Infections increment per t.u.\")\n",
    "plt.plot(mean_positives_inc, label=\"Mean Infection increment per t.u.\")\n",
    "plt.plot(glob_mean_inc, label=\"Average increment per t.u.\")\n",
    "plt.plot(glob_pos_std_dev_inc, label=\"Positive standard deviation per t.u.\")\n",
    "plt.plot(glob_neg_std_dev_inc, label=\"Negative standard deviation per t.u.\")\n",
    "plt.legend()\n",
    "\n",
    "f.savefig(\"../total_results/olderfirstvaccine_positives_increment.pdf\")\n"
   ]
  },
  {
   "cell_type": "code",
   "execution_count": null,
   "metadata": {},
   "outputs": [],
   "source": [
    "index_max_positives_mean = np.argmax(total_positives_number[\"mean\"])\n",
    "max_positives_mean = total_positives_number[\"mean\"][index_max_positives_mean]\n",
    "max_positives_dev = total_positives_number[\"std_dev\"][index_max_positives_mean]\n",
    "\n",
    "print(index_max_positives_mean, max_positives_mean, max_positives_dev)\n"
   ]
  }
 ],
 "metadata": {
  "interpreter": {
   "hash": "bffc4d73a9ce97335ba72023af51757eb7b64a65741697ee4c7c5e351cc86ef2"
  },
  "kernelspec": {
   "display_name": "Python 3.8.6 64-bit",
   "name": "python3"
  },
  "language_info": {
   "codemirror_mode": {
    "name": "ipython",
    "version": 3
   },
   "file_extension": ".py",
   "mimetype": "text/x-python",
   "name": "python",
   "nbconvert_exporter": "python",
   "pygments_lexer": "ipython3",
   "version": "3.8.6"
  },
  "orig_nbformat": 4
 },
 "nbformat": 4,
 "nbformat_minor": 2
}
